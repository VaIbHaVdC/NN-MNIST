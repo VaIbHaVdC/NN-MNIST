{
 "cells": [
  {
   "cell_type": "code",
   "execution_count": 22,
   "metadata": {},
   "outputs": [],
   "source": [
    "import numpy as np\n",
    "import pandas as pd\n",
    "import keras\n",
    "from matplotlib import pyplot as plt"
   ]
  },
  {
   "cell_type": "code",
   "execution_count": 2,
   "metadata": {
    "collapsed": true
   },
   "outputs": [],
   "source": [
    "train_dat = pd.read_csv('fashion-mnist_train.csv')"
   ]
  },
  {
   "cell_type": "code",
   "execution_count": 3,
   "metadata": {},
   "outputs": [
    {
     "data": {
      "text/html": [
       "<div>\n",
       "<style>\n",
       "    .dataframe thead tr:only-child th {\n",
       "        text-align: right;\n",
       "    }\n",
       "\n",
       "    .dataframe thead th {\n",
       "        text-align: left;\n",
       "    }\n",
       "\n",
       "    .dataframe tbody tr th {\n",
       "        vertical-align: top;\n",
       "    }\n",
       "</style>\n",
       "<table border=\"1\" class=\"dataframe\">\n",
       "  <thead>\n",
       "    <tr style=\"text-align: right;\">\n",
       "      <th></th>\n",
       "      <th>label</th>\n",
       "      <th>pixel1</th>\n",
       "      <th>pixel2</th>\n",
       "      <th>pixel3</th>\n",
       "      <th>pixel4</th>\n",
       "      <th>pixel5</th>\n",
       "      <th>pixel6</th>\n",
       "      <th>pixel7</th>\n",
       "      <th>pixel8</th>\n",
       "      <th>pixel9</th>\n",
       "      <th>...</th>\n",
       "      <th>pixel775</th>\n",
       "      <th>pixel776</th>\n",
       "      <th>pixel777</th>\n",
       "      <th>pixel778</th>\n",
       "      <th>pixel779</th>\n",
       "      <th>pixel780</th>\n",
       "      <th>pixel781</th>\n",
       "      <th>pixel782</th>\n",
       "      <th>pixel783</th>\n",
       "      <th>pixel784</th>\n",
       "    </tr>\n",
       "  </thead>\n",
       "  <tbody>\n",
       "    <tr>\n",
       "      <th>0</th>\n",
       "      <td>2</td>\n",
       "      <td>0</td>\n",
       "      <td>0</td>\n",
       "      <td>0</td>\n",
       "      <td>0</td>\n",
       "      <td>0</td>\n",
       "      <td>0</td>\n",
       "      <td>0</td>\n",
       "      <td>0</td>\n",
       "      <td>0</td>\n",
       "      <td>...</td>\n",
       "      <td>0</td>\n",
       "      <td>0</td>\n",
       "      <td>0</td>\n",
       "      <td>0</td>\n",
       "      <td>0</td>\n",
       "      <td>0</td>\n",
       "      <td>0</td>\n",
       "      <td>0</td>\n",
       "      <td>0</td>\n",
       "      <td>0</td>\n",
       "    </tr>\n",
       "    <tr>\n",
       "      <th>1</th>\n",
       "      <td>9</td>\n",
       "      <td>0</td>\n",
       "      <td>0</td>\n",
       "      <td>0</td>\n",
       "      <td>0</td>\n",
       "      <td>0</td>\n",
       "      <td>0</td>\n",
       "      <td>0</td>\n",
       "      <td>0</td>\n",
       "      <td>0</td>\n",
       "      <td>...</td>\n",
       "      <td>0</td>\n",
       "      <td>0</td>\n",
       "      <td>0</td>\n",
       "      <td>0</td>\n",
       "      <td>0</td>\n",
       "      <td>0</td>\n",
       "      <td>0</td>\n",
       "      <td>0</td>\n",
       "      <td>0</td>\n",
       "      <td>0</td>\n",
       "    </tr>\n",
       "    <tr>\n",
       "      <th>2</th>\n",
       "      <td>6</td>\n",
       "      <td>0</td>\n",
       "      <td>0</td>\n",
       "      <td>0</td>\n",
       "      <td>0</td>\n",
       "      <td>0</td>\n",
       "      <td>0</td>\n",
       "      <td>0</td>\n",
       "      <td>5</td>\n",
       "      <td>0</td>\n",
       "      <td>...</td>\n",
       "      <td>0</td>\n",
       "      <td>0</td>\n",
       "      <td>0</td>\n",
       "      <td>30</td>\n",
       "      <td>43</td>\n",
       "      <td>0</td>\n",
       "      <td>0</td>\n",
       "      <td>0</td>\n",
       "      <td>0</td>\n",
       "      <td>0</td>\n",
       "    </tr>\n",
       "    <tr>\n",
       "      <th>3</th>\n",
       "      <td>0</td>\n",
       "      <td>0</td>\n",
       "      <td>0</td>\n",
       "      <td>0</td>\n",
       "      <td>1</td>\n",
       "      <td>2</td>\n",
       "      <td>0</td>\n",
       "      <td>0</td>\n",
       "      <td>0</td>\n",
       "      <td>0</td>\n",
       "      <td>...</td>\n",
       "      <td>3</td>\n",
       "      <td>0</td>\n",
       "      <td>0</td>\n",
       "      <td>0</td>\n",
       "      <td>0</td>\n",
       "      <td>1</td>\n",
       "      <td>0</td>\n",
       "      <td>0</td>\n",
       "      <td>0</td>\n",
       "      <td>0</td>\n",
       "    </tr>\n",
       "    <tr>\n",
       "      <th>4</th>\n",
       "      <td>3</td>\n",
       "      <td>0</td>\n",
       "      <td>0</td>\n",
       "      <td>0</td>\n",
       "      <td>0</td>\n",
       "      <td>0</td>\n",
       "      <td>0</td>\n",
       "      <td>0</td>\n",
       "      <td>0</td>\n",
       "      <td>0</td>\n",
       "      <td>...</td>\n",
       "      <td>0</td>\n",
       "      <td>0</td>\n",
       "      <td>0</td>\n",
       "      <td>0</td>\n",
       "      <td>0</td>\n",
       "      <td>0</td>\n",
       "      <td>0</td>\n",
       "      <td>0</td>\n",
       "      <td>0</td>\n",
       "      <td>0</td>\n",
       "    </tr>\n",
       "  </tbody>\n",
       "</table>\n",
       "<p>5 rows × 785 columns</p>\n",
       "</div>"
      ],
      "text/plain": [
       "   label  pixel1  pixel2  pixel3  pixel4  pixel5  pixel6  pixel7  pixel8  \\\n",
       "0      2       0       0       0       0       0       0       0       0   \n",
       "1      9       0       0       0       0       0       0       0       0   \n",
       "2      6       0       0       0       0       0       0       0       5   \n",
       "3      0       0       0       0       1       2       0       0       0   \n",
       "4      3       0       0       0       0       0       0       0       0   \n",
       "\n",
       "   pixel9    ...     pixel775  pixel776  pixel777  pixel778  pixel779  \\\n",
       "0       0    ...            0         0         0         0         0   \n",
       "1       0    ...            0         0         0         0         0   \n",
       "2       0    ...            0         0         0        30        43   \n",
       "3       0    ...            3         0         0         0         0   \n",
       "4       0    ...            0         0         0         0         0   \n",
       "\n",
       "   pixel780  pixel781  pixel782  pixel783  pixel784  \n",
       "0         0         0         0         0         0  \n",
       "1         0         0         0         0         0  \n",
       "2         0         0         0         0         0  \n",
       "3         1         0         0         0         0  \n",
       "4         0         0         0         0         0  \n",
       "\n",
       "[5 rows x 785 columns]"
      ]
     },
     "execution_count": 3,
     "metadata": {},
     "output_type": "execute_result"
    }
   ],
   "source": [
    "train_dat.head(5)"
   ]
  },
  {
   "cell_type": "code",
   "execution_count": 4,
   "metadata": {
    "collapsed": true
   },
   "outputs": [],
   "source": [
    "Y_train = train_dat.iloc[:,0].values"
   ]
  },
  {
   "cell_type": "code",
   "execution_count": 5,
   "metadata": {},
   "outputs": [
    {
     "data": {
      "text/plain": [
       "(60000, 10)"
      ]
     },
     "execution_count": 5,
     "metadata": {},
     "output_type": "execute_result"
    }
   ],
   "source": [
    "Y_train.shape\n",
    "from keras.utils import np_utils\n",
    "Y_train = np_utils.to_categorical(Y_train)\n",
    "Y_train.shape"
   ]
  },
  {
   "cell_type": "code",
   "execution_count": 6,
   "metadata": {},
   "outputs": [
    {
     "data": {
      "text/plain": [
       "(60000, 784)"
      ]
     },
     "execution_count": 6,
     "metadata": {},
     "output_type": "execute_result"
    }
   ],
   "source": [
    "X_train = train_dat.iloc[:,1:].values\n",
    "X_train.shape"
   ]
  },
  {
   "cell_type": "code",
   "execution_count": 7,
   "metadata": {},
   "outputs": [
    {
     "data": {
      "text/plain": [
       "(60000, 28, 28, 1)"
      ]
     },
     "execution_count": 7,
     "metadata": {},
     "output_type": "execute_result"
    }
   ],
   "source": [
    "X_train = X_train.reshape(X_train.shape[0],28,28,1)\n",
    "X_train.shape"
   ]
  },
  {
   "cell_type": "code",
   "execution_count": 8,
   "metadata": {
    "collapsed": true
   },
   "outputs": [],
   "source": [
    "from keras.models import Sequential\n",
    "from keras.layers import Convolution2D, MaxPooling2D, Dense, Dropout,Flatten"
   ]
  },
  {
   "cell_type": "code",
   "execution_count": 35,
   "metadata": {},
   "outputs": [
    {
     "name": "stdout",
     "output_type": "stream",
     "text": [
      "_________________________________________________________________\n",
      "Layer (type)                 Output Shape              Param #   \n",
      "=================================================================\n",
      "conv2d_14 (Conv2D)           (None, 26, 26, 16)        160       \n",
      "_________________________________________________________________\n",
      "conv2d_15 (Conv2D)           (None, 24, 24, 32)        4640      \n",
      "_________________________________________________________________\n",
      "max_pooling2d_7 (MaxPooling2 (None, 12, 12, 32)        0         \n",
      "_________________________________________________________________\n",
      "conv2d_16 (Conv2D)           (None, 10, 10, 64)        18496     \n",
      "_________________________________________________________________\n",
      "conv2d_17 (Conv2D)           (None, 8, 8, 128)         73856     \n",
      "_________________________________________________________________\n",
      "max_pooling2d_8 (MaxPooling2 (None, 4, 4, 128)         0         \n",
      "_________________________________________________________________\n",
      "flatten_4 (Flatten)          (None, 2048)              0         \n",
      "_________________________________________________________________\n",
      "dropout_7 (Dropout)          (None, 2048)              0         \n",
      "_________________________________________________________________\n",
      "dense_10 (Dense)             (None, 128)               262272    \n",
      "_________________________________________________________________\n",
      "dropout_8 (Dropout)          (None, 128)               0         \n",
      "_________________________________________________________________\n",
      "dense_11 (Dense)             (None, 32)                4128      \n",
      "_________________________________________________________________\n",
      "dense_12 (Dense)             (None, 10)                330       \n",
      "=================================================================\n",
      "Total params: 363,882\n",
      "Trainable params: 363,882\n",
      "Non-trainable params: 0\n",
      "_________________________________________________________________\n"
     ]
    }
   ],
   "source": [
    "model = Sequential()\n",
    "model.add(Convolution2D(16, (3,3), activation = 'relu', input_shape = (28,28,1)))\n",
    "model.add(Convolution2D(32, (3,3), activation = 'relu'))\n",
    "model.add(MaxPooling2D(pool_size = (2,2)))\n",
    "model.add(Convolution2D(64, (3,3), activation= 'relu'))\n",
    "\n",
    "model.add(Convolution2D(128,(3,3), activation = 'relu'))\n",
    "model.add(MaxPooling2D(pool_size = (2,2)))\n",
    "model.add(Flatten())\n",
    "model.add(Dropout(rate = 0.4))\n",
    "model.add(Dense(128, activation = 'relu'))\n",
    "model.add(Dropout(rate = 0.3))\n",
    "model.add(Dense(32, activation = 'relu'))\n",
    "model.add(Dense(10, activation = 'softmax'))\n",
    "model.summary()"
   ]
  },
  {
   "cell_type": "code",
   "execution_count": 36,
   "metadata": {},
   "outputs": [],
   "source": [
    "model.compile(loss= 'categorical_crossentropy', optimizer = 'adam', metrics = ['accuracy'])"
   ]
  },
  {
   "cell_type": "code",
   "execution_count": 37,
   "metadata": {
    "collapsed": true
   },
   "outputs": [],
   "source": [
    "test_data = pd.read_csv('fashion-mnist_test.csv')"
   ]
  },
  {
   "cell_type": "code",
   "execution_count": 38,
   "metadata": {},
   "outputs": [
    {
     "data": {
      "text/plain": [
       "(10000, 28, 28, 1)"
      ]
     },
     "execution_count": 38,
     "metadata": {},
     "output_type": "execute_result"
    }
   ],
   "source": [
    "X_test = test_data.iloc[:,1:].values\n",
    "X_test = X_test.reshape(X_test.shape[0],28,28,1)\n",
    "X_test.shape"
   ]
  },
  {
   "cell_type": "code",
   "execution_count": 39,
   "metadata": {},
   "outputs": [
    {
     "data": {
      "text/plain": [
       "(10000, 10)"
      ]
     },
     "execution_count": 39,
     "metadata": {},
     "output_type": "execute_result"
    }
   ],
   "source": [
    "Y_test = test_data.iloc[:,0].values\n",
    "Y_test = np_utils.to_categorical(Y_test)\n",
    "Y_test.shape"
   ]
  },
  {
   "cell_type": "code",
   "execution_count": 41,
   "metadata": {},
   "outputs": [
    {
     "name": "stdout",
     "output_type": "stream",
     "text": [
      "Train on 60000 samples, validate on 10000 samples\n",
      "Epoch 1/35\n",
      "60000/60000 [==============================] - 244s - loss: 0.5250 - acc: 0.8073 - val_loss: 0.3355 - val_acc: 0.8770\n",
      "Epoch 2/35\n",
      "60000/60000 [==============================] - 215s - loss: 0.3780 - acc: 0.8655 - val_loss: 0.2887 - val_acc: 0.8952\n",
      "Epoch 3/35\n",
      "60000/60000 [==============================] - 212s - loss: 0.3379 - acc: 0.8794 - val_loss: 0.2725 - val_acc: 0.9024\n",
      "Epoch 4/35\n",
      "60000/60000 [==============================] - 211s - loss: 0.3176 - acc: 0.8868 - val_loss: 0.2787 - val_acc: 0.8972\n",
      "Epoch 5/35\n",
      "60000/60000 [==============================] - 213s - loss: 0.2998 - acc: 0.8926 - val_loss: 0.2946 - val_acc: 0.8920\n",
      "Epoch 6/35\n",
      "60000/60000 [==============================] - 213s - loss: 0.2896 - acc: 0.8956 - val_loss: 0.2537 - val_acc: 0.9087\n",
      "Epoch 7/35\n",
      "60000/60000 [==============================] - 216s - loss: 0.2823 - acc: 0.8992 - val_loss: 0.2676 - val_acc: 0.9074\n",
      "Epoch 8/35\n",
      "60000/60000 [==============================] - 224s - loss: 0.2801 - acc: 0.9019 - val_loss: 0.2593 - val_acc: 0.9071\n",
      "Epoch 9/35\n",
      "60000/60000 [==============================] - 236s - loss: 0.2734 - acc: 0.9022 - val_loss: 0.2473 - val_acc: 0.9148\n",
      "Epoch 10/35\n",
      "60000/60000 [==============================] - 243s - loss: 0.2654 - acc: 0.9050 - val_loss: 0.2518 - val_acc: 0.9087\n",
      "Epoch 11/35\n",
      "60000/60000 [==============================] - 246s - loss: 0.2599 - acc: 0.9079 - val_loss: 0.2496 - val_acc: 0.9110\n",
      "Epoch 12/35\n",
      "60000/60000 [==============================] - 361s - loss: 0.2594 - acc: 0.9093 - val_loss: 0.2426 - val_acc: 0.9143\n",
      "Epoch 13/35\n",
      "60000/60000 [==============================] - 233s - loss: 0.2601 - acc: 0.9096 - val_loss: 0.2354 - val_acc: 0.9223\n",
      "Epoch 14/35\n",
      "60000/60000 [==============================] - 344s - loss: 0.2624 - acc: 0.9087 - val_loss: 0.2495 - val_acc: 0.9178\n",
      "Epoch 15/35\n",
      "60000/60000 [==============================] - 249s - loss: 0.2497 - acc: 0.9130 - val_loss: 0.2386 - val_acc: 0.9214\n",
      "Epoch 16/35\n",
      "60000/60000 [==============================] - 285s - loss: 0.2521 - acc: 0.9119 - val_loss: 0.2321 - val_acc: 0.9204\n",
      "Epoch 17/35\n",
      "60000/60000 [==============================] - 285s - loss: 0.2474 - acc: 0.9125 - val_loss: 0.2378 - val_acc: 0.9186\n",
      "Epoch 18/35\n",
      "60000/60000 [==============================] - 285s - loss: 0.2480 - acc: 0.9135 - val_loss: 0.2412 - val_acc: 0.9177\n",
      "Epoch 19/35\n",
      "60000/60000 [==============================] - 285s - loss: 0.2537 - acc: 0.9122 - val_loss: 0.2430 - val_acc: 0.9218\n",
      "Epoch 20/35\n",
      "60000/60000 [==============================] - 285s - loss: 0.2404 - acc: 0.9177 - val_loss: 0.2301 - val_acc: 0.9237\n",
      "Epoch 21/35\n",
      "60000/60000 [==============================] - 285s - loss: 0.2541 - acc: 0.9133 - val_loss: 0.2389 - val_acc: 0.9209\n",
      "Epoch 22/35\n",
      "60000/60000 [==============================] - 1927s - loss: 0.2421 - acc: 0.9181 - val_loss: 0.2337 - val_acc: 0.9176\n",
      "Epoch 23/35\n",
      "60000/60000 [==============================] - 227s - loss: 0.2406 - acc: 0.9174 - val_loss: 0.2350 - val_acc: 0.9192\n",
      "Epoch 24/35\n",
      "60000/60000 [==============================] - 226s - loss: 0.2411 - acc: 0.9170 - val_loss: 0.2199 - val_acc: 0.9254\n",
      "Epoch 25/35\n",
      "60000/60000 [==============================] - 225s - loss: 0.2539 - acc: 0.9146 - val_loss: 0.2440 - val_acc: 0.9210\n",
      "Epoch 26/35\n",
      "60000/60000 [==============================] - 225s - loss: 0.2413 - acc: 0.9178 - val_loss: 0.2446 - val_acc: 0.9198\n",
      "Epoch 27/35\n",
      "60000/60000 [==============================] - 225s - loss: 0.2371 - acc: 0.9197 - val_loss: 0.2513 - val_acc: 0.9141\n",
      "Epoch 28/35\n",
      "60000/60000 [==============================] - 224s - loss: 0.2441 - acc: 0.9178 - val_loss: 0.2498 - val_acc: 0.9207\n",
      "Epoch 29/35\n",
      "60000/60000 [==============================] - 225s - loss: 0.2365 - acc: 0.9197 - val_loss: 0.2379 - val_acc: 0.9220\n",
      "Epoch 30/35\n",
      "60000/60000 [==============================] - 226s - loss: 0.2550 - acc: 0.9148 - val_loss: 0.3256 - val_acc: 0.8905\n",
      "Epoch 31/35\n",
      "60000/60000 [==============================] - 226s - loss: 0.2341 - acc: 0.9219 - val_loss: 0.2518 - val_acc: 0.9222\n",
      "Epoch 32/35\n",
      "60000/60000 [==============================] - 226s - loss: 0.2492 - acc: 0.9169 - val_loss: 0.2371 - val_acc: 0.9267\n",
      "Epoch 33/35\n",
      "60000/60000 [==============================] - 227s - loss: 0.2422 - acc: 0.9201 - val_loss: 0.2853 - val_acc: 0.9092\n",
      "Epoch 34/35\n",
      "60000/60000 [==============================] - 227s - loss: 0.2658 - acc: 0.9140 - val_loss: 0.2389 - val_acc: 0.9221\n",
      "Epoch 35/35\n",
      "60000/60000 [==============================] - 227s - loss: 0.2482 - acc: 0.9182 - val_loss: 0.2428 - val_acc: 0.9220\n"
     ]
    }
   ],
   "source": [
    "hist = model.fit(X_train,Y_train,\n",
    "                 epochs=35,\n",
    "                 shuffle=True,\n",
    "                 batch_size=16,\n",
    "                 validation_data = (X_test,Y_test))"
   ]
  },
  {
   "cell_type": "code",
   "execution_count": 42,
   "metadata": {},
   "outputs": [
    {
     "data": {
      "image/png": "[encoded data removed]",
      "text/plain": [
       "<matplotlib.figure.Figure at 0x2083a5fd240>"
      ]
     },
     "metadata": {},
     "output_type": "display_data"
    }
   ],
   "source": [
    "plt.plot(hist.history['acc'],'r')\n",
    "plt.plot(hist.history['val_acc'],'black')\n",
    "plt.plot(hist.history['loss'],'b')\n",
    "plt.plot(hist.history['val_loss'],'g')\n",
    "plt.show()"
   ]
  }
 ],
 "metadata": {
  "kernelspec": {
   "display_name": "Python 3",
   "language": "python",
   "name": "python3"
  },
  "language_info": {
   "codemirror_mode": {
    "name": "ipython",
    "version": 3
   },
   "file_extension": ".py",
   "mimetype": "text/x-python",
   "name": "python",
   "nbconvert_exporter": "python",
   "pygments_lexer": "ipython3",
   "version": "3.6.2"
  }
 },
 "nbformat": 4,
 "nbformat_minor": 2
}
